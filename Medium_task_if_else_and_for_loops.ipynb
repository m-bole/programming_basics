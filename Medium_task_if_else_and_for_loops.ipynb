{
  "nbformat": 4,
  "nbformat_minor": 0,
  "metadata": {
    "colab": {
      "provenance": []
    },
    "kernelspec": {
      "name": "python3",
      "display_name": "Python 3"
    },
    "language_info": {
      "name": "python"
    }
  },
  "cells": [
    {
      "cell_type": "code",
      "source": [
        "#MEDIUM\n",
        "\n",
        "#1 Check if the user entered an even number.\n",
        "\n",
        "#2 Check if the user has entered an odd number\n",
        "\n",
        "#3. check if the sum of the two numbers entered by the user is an even number\n",
        "#\n",
        "\n",
        "#4. Check if the password entered by the user meets the following conditions\n",
        "  # - at least one lowercase and one uppercase letter\n",
        "  # - at least one digit\n",
        "  # - at least one special character\n",
        "  # - at least 3 characters in length\n",
        "  # - a maximum of 18 characters in length"
      ],
      "metadata": {
        "id": "P8Z1FEceaB6c"
      },
      "execution_count": null,
      "outputs": []
    },
    {
      "cell_type": "code",
      "execution_count": 12,
      "metadata": {
        "id": "6ZACPHFCZ4Mr"
      },
      "outputs": [],
      "source": [
        "# Import required libraries\n",
        "from __future__ import with_statement\n",
        "import re\n",
        "\n",
        "\n",
        "\n",
        "\n"
      ]
    },
    {
      "cell_type": "code",
      "source": [
        "\n",
        "# Task 1: Check if a number is even\n",
        "def is_even(number):\n",
        "    \"\"\"\n",
        "    Check if a number is even\n",
        "    Args:\n",
        "        number (int): Number to check\n",
        "    Returns:\n",
        "        bool: True if even, False if odd\n",
        "    \"\"\"\n",
        "    return number % 2 == 0\n",
        "\n",
        "print(\"TASK 1: Check if number is even\")\n",
        "number1 = input(\"INPUT: Enter a number: \")\n",
        "\n",
        "if number1.isdigit():\n",
        "    num1 = int(number1)\n",
        "    print(f\"OUTPUT: Number {num1} is {'even' if is_even(num1) else 'not even'}\")\n",
        "else:\n",
        "    print(\"ERROR: Invalid input. Enter a valid number.\")\n"
      ],
      "metadata": {
        "colab": {
          "base_uri": "https://localhost:8080/"
        },
        "id": "xxxi5I4vb_C0",
        "outputId": "ba793704-efad-4ad8-e223-d24823b79162"
      },
      "execution_count": 14,
      "outputs": [
        {
          "output_type": "stream",
          "name": "stdout",
          "text": [
            "TASK 1: Check if number is even\n",
            "INPUT: Enter a number: 5\n",
            "OUTPUT: Number 5 is not even\n"
          ]
        }
      ]
    },
    {
      "cell_type": "code",
      "source": [
        "# Task 2: Check if a number is odd\n",
        "def is_odd(number):\n",
        "    \"\"\"\n",
        "    Check if a number is odd\n",
        "    Args:\n",
        "        number (int): Number to check\n",
        "    Returns:\n",
        "        bool: True if odd, False if even\n",
        "    \"\"\"\n",
        "    return not is_even(number)\n",
        "\n",
        "print(\"\\nTASK 2: Check if number is odd\")\n",
        "number2 = input(\"INPUT: Enter a number: \")\n",
        "\n",
        "if number2.isdigit():\n",
        "    num2 = int(number2)\n",
        "    print(f\"OUTPUT: Number {num2} is {'odd' if is_odd(num2) else 'not odd'}\")\n",
        "else:\n",
        "    print(\"ERROR: Invalid input. Enter a valid number.\")\n"
      ],
      "metadata": {
        "colab": {
          "base_uri": "https://localhost:8080/"
        },
        "id": "gMqI6PlJb_r0",
        "outputId": "18e5c604-115e-4ecf-89cd-3c26dca87f3b"
      },
      "execution_count": 15,
      "outputs": [
        {
          "output_type": "stream",
          "name": "stdout",
          "text": [
            "\n",
            "TASK 2: Check if number is odd\n",
            "INPUT: Enter a number: 3\n",
            "OUTPUT: Number 3 is odd\n"
          ]
        }
      ]
    },
    {
      "cell_type": "code",
      "source": [
        "\n",
        "# Task 3: Check if sum is even\n",
        "def is_sum_even(a, b):\n",
        "    \"\"\"\n",
        "    Check if sum of two numbers is even\n",
        "    Args:\n",
        "        a (int): First number\n",
        "        b (int): Second number\n",
        "    Returns:\n",
        "        bool: True if sum is even, False if odd\n",
        "    \"\"\"\n",
        "    return is_even(a + b)\n",
        "\n",
        "print(\"\\nTASK 3: Check if sum is even\")\n",
        "if number1.isdigit() and number2.isdigit():\n",
        "    num1 = int(number1)\n",
        "    num2 = int(number2)\n",
        "    sum_result = num1 + num2\n",
        "    print(f\"OUTPUT: Sum = {num1} + {num2} = {sum_result}\")\n",
        "    print(f\"OUTPUT: The sum is {'even' if is_sum_even(num1, num2) else 'odd'}\")\n",
        "else:\n",
        "    print(\"ERROR: Cannot calculate sum. Invalid inputs provided.\")"
      ],
      "metadata": {
        "colab": {
          "base_uri": "https://localhost:8080/"
        },
        "id": "RSK0VdGWcBTg",
        "outputId": "a986cb9b-cd87-407d-aec9-e4eb7c4f6adb"
      },
      "execution_count": 16,
      "outputs": [
        {
          "output_type": "stream",
          "name": "stdout",
          "text": [
            "\n",
            "TASK 3: Check if sum is even\n",
            "OUTPUT: Sum = 5 + 3 = 8\n",
            "OUTPUT: The sum is even\n"
          ]
        }
      ]
    },
    {
      "cell_type": "code",
      "source": [
        "# Task 4: Password Validation\n",
        "def validate_password(password):\n",
        "    \"\"\"\n",
        "    Validate password according to requirements and return all missing requirements\n",
        "\n",
        "    Args:\n",
        "        password (str): Password to validate\n",
        "    Returns:\n",
        "        tuple: (bool, list of missing requirements)\n",
        "    \"\"\"\n",
        "    missing = []\n",
        "\n",
        "    # Check length requirements\n",
        "    if len(password) < 3:\n",
        "        missing.append(\"minimum 3 characters\")\n",
        "    elif len(password) > 18:\n",
        "        missing.append(\"maximum 18 characters\")\n",
        "\n",
        "    # Check for lowercase letter\n",
        "    if not re.search(r'[a-z]', password):\n",
        "        missing.append(\"lowercase letter\")\n",
        "\n",
        "    # Check for uppercase letter\n",
        "    if not re.search(r'[A-Z]', password):\n",
        "        missing.append(\"uppercase letter\")\n",
        "\n",
        "    # Check for digit\n",
        "    if not re.search(r'\\d', password):\n",
        "        missing.append(\"digit\")\n",
        "\n",
        "    # Check for special character\n",
        "    if not re.search(r'[!@#$%^&*(),.?\":{}|<>]', password):\n",
        "        missing.append(\"special character (!@#$%^&*(),.?\\\":{}|<>)\")\n",
        "\n",
        "    is_valid = len(missing) == 0\n",
        "    return is_valid, missing\n",
        "\n",
        "print(\"\\nTASK 4: Password Validation\")\n",
        "print(\"Requirements:\")\n",
        "print(\"- At least one lowercase letter\")\n",
        "print(\"- At least one uppercase letter\")\n",
        "print(\"- At least one digit\")\n",
        "print(\"- At least one special character from: !@#$%^&*(),.?\\\":{}|<>\")\n",
        "print(\"- Between 3 and 18 characters in length\")\n",
        "\n",
        "while True:\n",
        "    test_password = input(\"INPUT: Enter a password: \")\n",
        "    is_valid, missing = validate_password(test_password)\n",
        "\n",
        "    if is_valid:\n",
        "        print(\"OUTPUT: Password is valid!\")\n",
        "        break\n",
        "    else:\n",
        "        print(\"OUTPUT: Invalid password. Missing requirements:\")\n",
        "        for requirement in missing:\n",
        "            print(f\"- {requirement}\")\n",
        "\n",
        "    retry = input(\"Would you like to try another password? (yes/no): \")\n",
        "    if retry.lower() != 'yes':\n",
        "        break"
      ],
      "metadata": {
        "colab": {
          "base_uri": "https://localhost:8080/"
        },
        "id": "xPlbEEdmbNja",
        "outputId": "bbfc1ba3-bccd-445a-f78a-9ba2b8a9dee6"
      },
      "execution_count": 11,
      "outputs": [
        {
          "output_type": "stream",
          "name": "stdout",
          "text": [
            "\n",
            "TASK 4: Password Validation\n",
            "Requirements:\n",
            "- At least one lowercase letter\n",
            "- At least one uppercase letter\n",
            "- At least one digit\n",
            "- At least one special character from: !@#$%^&*(),.?\":{}|<>\n",
            "- Between 3 and 18 characters in length\n",
            "INPUT: Enter a password: edkqwk2$%_Sjfa\n",
            "OUTPUT: Password is valid!\n"
          ]
        }
      ]
    }
  ]
}