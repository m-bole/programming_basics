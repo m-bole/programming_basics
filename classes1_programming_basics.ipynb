{
  "nbformat": 4,
  "nbformat_minor": 0,
  "metadata": {
    "colab": {
      "provenance": []
    },
    "kernelspec": {
      "name": "python3",
      "display_name": "Python 3"
    },
    "language_info": {
      "name": "python"
    }
  },
  "cells": [
    {
      "cell_type": "code",
      "source": [
        "#1. Create a String variable to store the following string: ‘I love programming classes’.\n",
        "#Then perform the following tasks:\n",
        "#a. Using slicing and indexing and the created variable, output the the string ‘ing clas’ (1 point)\n",
        "#b. Write out the value of the whole variable using a negative index (1pt)\n",
        "#c. Write out every 3rd character starting from the second character (1pt)\n",
        "\n",
        "string_variable = 'I love programming classes'\n",
        "\n",
        "# a. Using slicing and indexing and the created variable, output the the string ‘ing clas’\n",
        "print(string_variable[15:23])\n",
        "\n",
        "# b. Write out the value of the whole variable using a negative index\n",
        "print(string_variable[-len(string_variable):])\n",
        "\n",
        "# c. Write out every 3rd character starting from the second character\n",
        "print(string_variable[1::3])\n"
      ],
      "metadata": {
        "id": "HSexWBFqGwVk",
        "outputId": "86b7e34d-e1b4-44f4-e200-e679527b8006",
        "colab": {
          "base_uri": "https://localhost:8080/"
        }
      },
      "execution_count": 8,
      "outputs": [
        {
          "output_type": "stream",
          "name": "stdout",
          "text": [
            "ing clas\n",
            "I love programming classes\n",
            " vpgmncss\n"
          ]
        }
      ]
    },
    {
      "cell_type": "code",
      "source": [
        "# 2. Create a String variable storing the following string: ‘Black is my favourite colour,\n",
        "# unfortunately the colour black washes out of my clothes’. Then carry out the following tasks:\n",
        "# a. Check if all the words in the given text start with a capital letter.\n",
        "# b. Check that the string begins with a capital C.\n",
        "# c. Replace both occurrences of the colour name with another colour of your choice\n",
        "\n",
        "# 2. String variable and tasks\n",
        "my_string = 'Black is my favourite colour, unfortunately the colour black washes out of my clothes'\n",
        "\n",
        "# a. Check if all words start with a capital letter\n",
        "words = my_string.split()\n",
        "all_capitalized = all(word[0].isupper() for word in words)\n",
        "print(\"Do all words start with a capital letter?\", all_capitalized)\n",
        "\n",
        "# b. Check if the string begins with a capital C\n",
        "starts_with_capital_c = my_string.startswith('C')\n",
        "print(\"Does the string start with a capital C?\", starts_with_capital_c)\n",
        "\n",
        "\n",
        "# c. Replace both occurrences of 'black' with another colour - case-sensitive\n",
        "new_color = 'Blue'\n",
        "new_string = my_string.replace('Black', new_color).replace('black', new_color.lower())\n",
        "print(new_string)\n"
      ],
      "metadata": {
        "colab": {
          "base_uri": "https://localhost:8080/"
        },
        "id": "Vt0Xp-CKWbf1",
        "outputId": "4c697313-f0e0-4ca8-ce6a-1fedf4e1ac49"
      },
      "execution_count": 18,
      "outputs": [
        {
          "output_type": "stream",
          "name": "stdout",
          "text": [
            "Do all words start with a capital letter? False\n",
            "Does the string start with a capital C? False\n",
            "Blue is my favourite colour, unfortunately the colour blue washes out of my clothes\n"
          ]
        }
      ]
    },
    {
      "cell_type": "code",
      "source": [
        "#2C point again. In this case you can use the replace method ONLY ONCE!\n",
        "\n",
        "import re\n",
        "\n",
        "my_string = 'Black is my favourite colour, unfortunately the colour black washes out of my clothes'\n",
        "\n",
        "def smart_replace(text, old_color, new_color):\n",
        "    def repl(match):\n",
        "        if match.group(0)[0].isupper():\n",
        "            return new_color.capitalize()\n",
        "        else:\n",
        "            return new_color.lower()\n",
        "\n",
        "    pattern = re.compile(re.escape(old_color), re.IGNORECASE)\n",
        "    return pattern.sub(repl, text)\n",
        "\n",
        "# Use the function to replace 'black' with 'blue'\n",
        "new_string = smart_replace(my_string, 'black', 'blue')\n",
        "print(new_string)"
      ],
      "metadata": {
        "colab": {
          "base_uri": "https://localhost:8080/"
        },
        "id": "9f5l2nh-XSrm",
        "outputId": "f2ba4d05-588d-40a3-f050-82246e8fb64f"
      },
      "execution_count": 17,
      "outputs": [
        {
          "output_type": "stream",
          "name": "stdout",
          "text": [
            "Blue is my favourite colour, unfortunately the colour blue washes out of my clothes\n"
          ]
        }
      ]
    }
  ]
}