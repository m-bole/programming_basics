{
  "nbformat": 4,
  "nbformat_minor": 0,
  "metadata": {
    "colab": {
      "provenance": [],
      "toc_visible": true
    },
    "kernelspec": {
      "name": "python3",
      "display_name": "Python 3"
    },
    "language_info": {
      "name": "python"
    }
  },
  "cells": [
    {
      "cell_type": "code",
      "execution_count": 2,
      "metadata": {
        "colab": {
          "base_uri": "https://localhost:8080/"
        },
        "id": "8nvaIsTxG9pY",
        "outputId": "b4d34b26-1ad9-4706-ab2c-a07270aae5f1"
      },
      "outputs": [
        {
          "output_type": "stream",
          "name": "stdout",
          "text": [
            "a. Using positive indexing: ing clas\n",
            "a. Using negative indexing: ing clas\n",
            "b. Using dynamic negative indexing: I love programming classes\n",
            "b. Using fixed negative indexing: I love programming classes\n",
            "c.  vpgmncss\n"
          ]
        }
      ],
      "source": [
        "#1. Create a String variable to store the following string: 'I love programming classes'.\n",
        "#Then perform the following tasks:\n",
        "#a. Using slicing and indexing and the created variable, output the the string 'ing clas' (1 point)\n",
        "#b. Write out the value of the whole variable using a negative index (1pt)\n",
        "#c. Write out every 3rd character starting from the second character (1pt)\n",
        "\n",
        "string_variable = 'I love programming classes'\n",
        "\n",
        "# a. Using slicing and indexing and the created variable, output the the string 'ing clas'\n",
        "print(\"a. Using positive indexing:\", string_variable[15:23])\n",
        "# Alternative solution using negative indexing\n",
        "print(\"a. Using negative indexing:\", string_variable[-11:-3])\n",
        "\n",
        "# b. Write out the value of the whole variable using a negative index\n",
        "print(\"b. Using dynamic negative indexing:\", string_variable[-len(string_variable):])\n",
        "# Alternative solution using fixed negative indexing\n",
        "print(\"b. Using fixed negative indexing:\", string_variable[-26:])\n",
        "\n",
        "# c. Write out every 3rd character starting from the second character\n",
        "print(\"c.\", string_variable[1::3])"
      ]
    },
    {
      "cell_type": "code",
      "source": [
        "# 2. Create a String variable storing the following string: 'Black is my favourite colour,\n",
        "# unfortunately the colour black washes out of my clothes'. Then carry out the following tasks:\n",
        "# a. Check if all the words in the given text start with a capital letter.\n",
        "# b. Check that the string begins with a capital C.\n",
        "# c. Replace both occurrences of the colour name with another colour of your choice\n",
        "\n",
        "text = 'Black is my favourite colour, unfortunately the colour black washes out of my clothes'\n",
        "\n",
        "# a. Check if all the words in the given text start with a capital letter.\n",
        "all_capitalized = all(word[0].isupper() for word in text.split())\n",
        "print(\"a. All words start with a capital letter:\", all_capitalized)\n",
        "\n",
        "# b. Check that the string begins with a capital C.\n",
        "starts_with_capital_c = text.startswith('C')\n",
        "print(\"b. String begins with a capital C:\", starts_with_capital_c)\n",
        "\n",
        "# c. Replace both occurrences of the colour name with another colour of your choice\n",
        "new_text = text.replace('Black', 'Purple').replace('black', 'purple')\n",
        "print(\"c. Text with replaced colour:\")\n",
        "print(new_text)\n",
        "\n",
        "\n",
        "#2C point again. In this case you can use the replace method ONLY ONCE!\n",
        "new_text = text.lower().replace('black', 'purple')\n",
        "print(\"*c. Text with replaced colour:\")\n",
        "print(new_text)"
      ],
      "metadata": {
        "colab": {
          "base_uri": "https://localhost:8080/"
        },
        "id": "OkXtO2B1IrgH",
        "outputId": "1d016d8c-7c13-4539-f4a5-a02cff08bcb7"
      },
      "execution_count": 9,
      "outputs": [
        {
          "output_type": "stream",
          "name": "stdout",
          "text": [
            "a. All words start with a capital letter: False\n",
            "b. String begins with a capital C: False\n",
            "c. Text with replaced colour:\n",
            "Purple is my favourite colour, unfortunately the colour purple washes out of my clothes\n",
            "*c. Text with replaced colour:\n",
            "purple is my favourite colour, unfortunately the colour purple washes out of my clothes\n"
          ]
        }
      ]
    },
    {
      "cell_type": "code",
      "source": [
        "import re\n",
        "# Alternative Solution for 2c: Using replace method ONLY ONCE with regex\n",
        "def smart_replace(text, old_color, new_color):\n",
        "    def repl(match):\n",
        "        if match.group(0)[0].isupper():\n",
        "            return new_color.capitalize()\n",
        "        else:\n",
        "            return new_color.lower()\n",
        "\n",
        "    pattern = re.compile(re.escape(old_color), re.IGNORECASE)\n",
        "    return pattern.sub(repl, text)\n",
        "\n",
        "# Use the function to replace 'black' with 'blue'\n",
        "new_text2 = smart_replace(text, 'black', 'purple')\n",
        "print(\"**c. Text with replaced colour:\")\n",
        "print(new_text2)"
      ],
      "metadata": {
        "colab": {
          "base_uri": "https://localhost:8080/"
        },
        "id": "jNmboGJYJvef",
        "outputId": "4d532f5b-dc20-4d51-e040-9e68a8cd6b2c"
      },
      "execution_count": 11,
      "outputs": [
        {
          "output_type": "stream",
          "name": "stdout",
          "text": [
            "**c. Text with replaced colour:\n",
            "Purple is my favourite colour, unfortunately the colour purple washes out of my clothes\n"
          ]
        }
      ]
    }
  ]
}