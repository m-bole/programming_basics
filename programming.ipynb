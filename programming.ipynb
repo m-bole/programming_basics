{
  "nbformat": 4,
  "nbformat_minor": 0,
  "metadata": {
    "colab": {
      "provenance": []
    },
    "kernelspec": {
      "name": "python3",
      "display_name": "Python 3"
    },
    "language_info": {
      "name": "python"
    }
  },
  "cells": [
    {
      "cell_type": "code",
      "execution_count": null,
      "metadata": {
        "id": "Mw1HCTy1VD2g"
      },
      "outputs": [],
      "source": [
        "#Tasks:\n",
        "\n",
        "#Write a function rectangle_area that takes two arguments: the length and width of a rectangle. The function should return the area of the rectangle (1pt).\n",
        "#Write a function is_even that takes one argument: an integer. The function should return True if the number is even and False if it is odd (1pt).\n",
        "#Write a function convert_to_celsius that takes one argument: a temperature in Fahrenheit. The function should return the equivalent temperature in Celsius, using the formula (2pt):\n",
        "\n",
        "#Using data on the Titanic, create a function that checks whether passengers were over or under 30 years old. Pass the results to a new column in the DataFrame (2pt).\n"
      ]
    },
    {
      "cell_type": "code",
      "source": [
        "# Task 1: Write a function rectangle_area that calculates the area of a rectangle.\n",
        "def rectangle_area():\n",
        "    \"\"\"Calculate the area of a rectangle based on user input.\"\"\"\n",
        "    length = float(input(\"Enter the length of the rectangle: \"))\n",
        "    width = float(input(\"Enter the width of the rectangle: \"))\n",
        "    area = length * width\n",
        "    print(f\"The area of the rectangle is: {area}\")\n",
        "    return area\n",
        "\n"
      ],
      "metadata": {
        "id": "SNpDPZftVwlB"
      },
      "execution_count": 5,
      "outputs": []
    },
    {
      "cell_type": "code",
      "source": [
        "    rectangle_area()"
      ],
      "metadata": {
        "colab": {
          "base_uri": "https://localhost:8080/"
        },
        "id": "f-4fsfnjVyoq",
        "outputId": "3ea018df-918c-4ae0-cd78-571bbe8d7436"
      },
      "execution_count": 6,
      "outputs": [
        {
          "output_type": "stream",
          "name": "stdout",
          "text": [
            "Enter the length of the rectangle: 2\n",
            "Enter the width of the rectangle: 4\n",
            "The area of the rectangle is: 8.0\n"
          ]
        },
        {
          "output_type": "execute_result",
          "data": {
            "text/plain": [
              "8.0"
            ]
          },
          "metadata": {},
          "execution_count": 6
        }
      ]
    },
    {
      "cell_type": "code",
      "source": [
        "def is_even():\n",
        "    \"\"\"Check if a user-provided number is even.\"\"\"\n",
        "    number = int(input(\"Enter an integer: \"))\n",
        "    result = number % 2 == 0\n",
        "    if result:\n",
        "        print(f\"The number {number} is even.\")\n",
        "    else:\n",
        "        print(f\"The number {number} is odd.\")\n",
        "    return result\n"
      ],
      "metadata": {
        "id": "o_DayM0MWJzn"
      },
      "execution_count": 8,
      "outputs": []
    },
    {
      "cell_type": "code",
      "source": [
        "is_even()"
      ],
      "metadata": {
        "colab": {
          "base_uri": "https://localhost:8080/"
        },
        "id": "41dfzJwZWORG",
        "outputId": "785298d1-d2ef-476e-f4d8-75550700276b"
      },
      "execution_count": 9,
      "outputs": [
        {
          "output_type": "stream",
          "name": "stdout",
          "text": [
            "Enter an integer: 4\n",
            "The number 4 is even.\n"
          ]
        },
        {
          "output_type": "execute_result",
          "data": {
            "text/plain": [
              "True"
            ]
          },
          "metadata": {},
          "execution_count": 9
        }
      ]
    },
    {
      "cell_type": "code",
      "source": [
        "# Task 3: Write a function convert_to_celsius to convert Fahrenheit to Celsius.\n",
        "def convert_to_celsius():\n",
        "    \"\"\"Convert temperature from Fahrenheit to Celsius based on user input.\"\"\"\n",
        "    fahrenheit = float(input(\"Enter the temperature in Fahrenheit: \"))\n",
        "    celsius = (fahrenheit - 32) * 5.0 / 9.0\n",
        "    print(f\"The temperature in Celsius is: {celsius:.2f}\")\n",
        "    return celsius\n"
      ],
      "metadata": {
        "id": "PtdR0CL3WPi-"
      },
      "execution_count": 13,
      "outputs": []
    },
    {
      "cell_type": "code",
      "source": [
        "\n",
        "convert_to_celsius()"
      ],
      "metadata": {
        "colab": {
          "base_uri": "https://localhost:8080/"
        },
        "id": "sLdCbJtbWU-2",
        "outputId": "bd137b28-dc3d-4157-ab34-02732ecb6b6b"
      },
      "execution_count": 14,
      "outputs": [
        {
          "output_type": "stream",
          "name": "stdout",
          "text": [
            "Enter the temperature in Fahrenheit: 53\n",
            "The temperature in Celsius is: 11.67\n"
          ]
        },
        {
          "output_type": "execute_result",
          "data": {
            "text/plain": [
              "11.666666666666666"
            ]
          },
          "metadata": {},
          "execution_count": 14
        }
      ]
    },
    {
      "cell_type": "code",
      "source": [
        "# Task 4: Using data on the test.csv file, create a function to classify passengers by age.\n",
        "import pandas as pd\n",
        "\n",
        "# Load the CSV file\n",
        "test_data = pd.read_csv('test.csv')\n",
        "\n",
        "def classify_age(data):\n",
        "    \"\"\"Classify passengers as over or under 30 years old.\"\"\"\n",
        "    data['AgeCategory'] = data['Age'].apply(lambda age: 'Over 30' if age > 30 else 'Under 30')\n",
        "    return data\n",
        "\n",
        "# Apply the function to the DataFrame\n",
        "test_data = classify_age(test_data)\n",
        "\n",
        "# Example: Display the updated DataFrame\n",
        "print(test_data.head())\n"
      ],
      "metadata": {
        "colab": {
          "base_uri": "https://localhost:8080/"
        },
        "id": "KO6NiJwZWVXH",
        "outputId": "ebed8d67-cc21-4bfc-aeab-ff071d656031"
      },
      "execution_count": 11,
      "outputs": [
        {
          "output_type": "stream",
          "name": "stdout",
          "text": [
            "   PassengerId  Pclass                                          Name     Sex  \\\n",
            "0          892       3                              Kelly, Mr. James    male   \n",
            "1          893       3              Wilkes, Mrs. James (Ellen Needs)  female   \n",
            "2          894       2                     Myles, Mr. Thomas Francis    male   \n",
            "3          895       3                              Wirz, Mr. Albert    male   \n",
            "4          896       3  Hirvonen, Mrs. Alexander (Helga E Lindqvist)  female   \n",
            "\n",
            "    Age  SibSp  Parch   Ticket     Fare Cabin Embarked AgeCategory  \n",
            "0  34.5      0      0   330911   7.8292   NaN        Q     Over 30  \n",
            "1  47.0      1      0   363272   7.0000   NaN        S     Over 30  \n",
            "2  62.0      0      0   240276   9.6875   NaN        Q     Over 30  \n",
            "3  27.0      0      0   315154   8.6625   NaN        S    Under 30  \n",
            "4  22.0      1      1  3101298  12.2875   NaN        S    Under 30  \n"
          ]
        }
      ]
    }
  ]
}