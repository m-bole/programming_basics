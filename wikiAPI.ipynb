{
  "nbformat": 4,
  "nbformat_minor": 0,
  "metadata": {
    "colab": {
      "provenance": []
    },
    "kernelspec": {
      "name": "python3",
      "display_name": "Python 3"
    },
    "language_info": {
      "name": "python"
    }
  },
  "cells": [
    {
      "cell_type": "code",
      "source": [
        "!pip install requests\n",
        "\n"
      ],
      "metadata": {
        "colab": {
          "base_uri": "https://localhost:8080/"
        },
        "id": "WSjcjzoWg2Uf",
        "outputId": "4b5b2108-2e22-4ba6-cff1-e6b9d832dfd5"
      },
      "execution_count": 6,
      "outputs": [
        {
          "output_type": "stream",
          "name": "stdout",
          "text": [
            "Requirement already satisfied: requests in /usr/local/lib/python3.10/dist-packages (2.32.3)\n",
            "Requirement already satisfied: charset-normalizer<4,>=2 in /usr/local/lib/python3.10/dist-packages (from requests) (3.4.0)\n",
            "Requirement already satisfied: idna<4,>=2.5 in /usr/local/lib/python3.10/dist-packages (from requests) (3.10)\n",
            "Requirement already satisfied: urllib3<3,>=1.21.1 in /usr/local/lib/python3.10/dist-packages (from requests) (2.2.3)\n",
            "Requirement already satisfied: certifi>=2017.4.17 in /usr/local/lib/python3.10/dist-packages (from requests) (2024.8.30)\n"
          ]
        }
      ]
    },
    {
      "cell_type": "code",
      "execution_count": 7,
      "metadata": {
        "id": "Ho4ZE1bfgGlm"
      },
      "outputs": [],
      "source": [
        "import requests\n",
        "import json\n"
      ]
    },
    {
      "cell_type": "code",
      "source": [
        "def wiki_search(search_term, limit=5):\n",
        "    \"\"\"\n",
        "    Perform a Wikipedia API search and return results\n",
        "    \"\"\"\n",
        "    url = \"https://en.wikipedia.org/w/api.php\"\n",
        "    params = {\n",
        "        \"action\": \"query\",\n",
        "        \"list\": \"search\",\n",
        "        \"srsearch\": search_term,\n",
        "        \"format\": \"json\",\n",
        "        \"srlimit\": limit\n",
        "    }\n",
        "\n",
        "    response = requests.get(url, params=params)\n",
        "    return response.json()\n",
        "\n",
        "def analyze_results(search_term):\n",
        "    \"\"\"\n",
        "    Analyze and print search results\n",
        "    \"\"\"\n",
        "    print(f\"\\nSearch Analysis for: {search_term}\")\n",
        "    print(\"-\" * 50)\n",
        "\n",
        "    results = wiki_search(search_term)\n",
        "\n",
        "    for i, result in enumerate(results[\"query\"][\"search\"], 1):\n",
        "        title = result[\"title\"]\n",
        "        pageid = result[\"pageid\"]\n",
        "        snippet = result[\"snippet\"]\n",
        "\n",
        "        print(f\"\\n{i}. Title: {title}\")\n",
        "        print(f\"   PageID: {pageid}\")\n",
        "        print(f\"   URL: https://en.wikipedia.org/?curid={pageid}\")\n",
        "        print(f\"   Snippet: {snippet[:100]}...\")\n",
        "\n",
        "# Perform three different searches\n",
        "search_terms = [\"Hyrax\", \"Pangolin\", \"Cat\"]\n",
        "\n",
        "for term in search_terms:\n",
        "    analyze_results(term)\n",
        "\n"
      ],
      "metadata": {
        "colab": {
          "base_uri": "https://localhost:8080/"
        },
        "id": "jp73ZKq9gHin",
        "outputId": "d5cbe2f2-87ce-400e-803f-afb5e882d55d"
      },
      "execution_count": 11,
      "outputs": [
        {
          "output_type": "stream",
          "name": "stdout",
          "text": [
            "\n",
            "Search Analysis for: Hyrax\n",
            "--------------------------------------------------\n",
            "\n",
            "1. Title: Hyrax\n",
            "   PageID: 28332898\n",
            "   URL: https://en.wikipedia.org/?curid=28332898\n",
            "   Snippet: Hyraxes (from Ancient Greek ὕραξ <span class=\"searchmatch\">hýrax</span> 'shrew-mouse'), also called ...\n",
            "\n",
            "2. Title: Rock hyrax\n",
            "   PageID: 1239396\n",
            "   URL: https://en.wikipedia.org/?curid=1239396\n",
            "   Snippet: The rock <span class=\"searchmatch\">hyrax</span> (/ˈhaɪ.ræks/; Procavia capensis), also called dassie...\n",
            "\n",
            "3. Title: Tree hyrax\n",
            "   PageID: 12541564\n",
            "   URL: https://en.wikipedia.org/?curid=12541564\n",
            "   Snippet: The tree <span class=\"searchmatch\">hyrax</span> or tree dassie is a small nocturnal mammal native to...\n",
            "\n",
            "4. Title: Yellow-spotted rock hyrax\n",
            "   PageID: 12541741\n",
            "   URL: https://en.wikipedia.org/?curid=12541741\n",
            "   Snippet: The yellow-spotted rock <span class=\"searchmatch\">hyrax</span> or bush <span class=\"searchmatch\">hyr...\n",
            "\n",
            "5. Title: Benin tree hyrax\n",
            "   PageID: 67991924\n",
            "   URL: https://en.wikipedia.org/?curid=67991924\n",
            "   Snippet: The Benin tree <span class=\"searchmatch\">hyrax</span> (Dendrohyrax interfluvialis) is a species of t...\n",
            "\n",
            "Search Analysis for: Pangolin\n",
            "--------------------------------------------------\n",
            "\n",
            "1. Title: Pangolin\n",
            "   PageID: 51124\n",
            "   URL: https://en.wikipedia.org/?curid=51124\n",
            "   Snippet: <span class=\"searchmatch\">Pangolins</span>, sometimes known as scaly anteaters, are mammals of the o...\n",
            "\n",
            "2. Title: Phylogenetic Assignment of Named Global Outbreak Lineages\n",
            "   PageID: 66467501\n",
            "   URL: https://en.wikipedia.org/?curid=66467501\n",
            "   Snippet: The Phylogenetic Assignment of Named Global Outbreak Lineages (<span class=\"searchmatch\">PANGOLIN</s...\n",
            "\n",
            "3. Title: Ground pangolin\n",
            "   PageID: 252144\n",
            "   URL: https://en.wikipedia.org/?curid=252144\n",
            "   Snippet: The ground <span class=\"searchmatch\">pangolin</span> (Smutsia temminckii), also known as Temminck's ...\n",
            "\n",
            "4. Title: Pangolin (disambiguation)\n",
            "   PageID: 66471383\n",
            "   URL: https://en.wikipedia.org/?curid=66471383\n",
            "   Snippet: specifically: Manidae (<span class=\"searchmatch\">pangolins</span>) Maninae (subfamily: Asiatic <span...\n",
            "\n",
            "5. Title: Chinese pangolin\n",
            "   PageID: 10444089\n",
            "   URL: https://en.wikipedia.org/?curid=10444089\n",
            "   Snippet: The Chinese <span class=\"searchmatch\">pangolin</span> (Manis pentadactyla) is a <span class=\"searchm...\n",
            "\n",
            "Search Analysis for: Cat\n",
            "--------------------------------------------------\n",
            "\n",
            "1. Title: Cat\n",
            "   PageID: 6678\n",
            "   URL: https://en.wikipedia.org/?curid=6678\n",
            "   Snippet: The <span class=\"searchmatch\">cat</span> (Felis catus), also referred to as domestic <span class=\"se...\n",
            "\n",
            "2. Title: Cat (disambiguation)\n",
            "   PageID: 434590\n",
            "   URL: https://en.wikipedia.org/?curid=434590\n",
            "   Snippet: Look up <span class=\"searchmatch\">cat</span>, <span class=\"searchmatch\">Cat</span>, <span class=\"sea...\n",
            "\n",
            "3. Title: .cat\n",
            "   PageID: 1978706\n",
            "   URL: https://en.wikipedia.org/?curid=1978706\n",
            "   Snippet: .<span class=\"searchmatch\">cat</span> (pronounced in Catalan: punt <span class=\"searchmatch\">cat</sp...\n",
            "\n",
            "4. Title: Schrödinger's cat\n",
            "   PageID: 27856\n",
            "   URL: https://en.wikipedia.org/?curid=27856\n",
            "   Snippet: mechanics, Schrödinger's <span class=\"searchmatch\">cat</span> is a thought experiment concerning qua...\n",
            "\n",
            "5. Title: CatCat\n",
            "   PageID: 1129119\n",
            "   URL: https://en.wikipedia.org/?curid=1129119\n",
            "   Snippet: <span class=\"searchmatch\">Cat</span><span class=\"searchmatch\">Cat</span> is a Finnish duo that parti...\n"
          ]
        }
      ]
    },
    {
      "cell_type": "markdown",
      "source": [
        "# Wikipedia Search Results Comparison\n",
        "\n",
        "## Hyrax Search\n",
        "**API Results:**\n",
        "1. Hyrax (PageID: 28332898)\n",
        "2. Rock hyrax (PageID: 1239396)\n",
        "3. Tree hyrax (PageID: 12541564)\n",
        "4. Yellow-spotted rock hyrax (PageID: 12541741)\n",
        "5. Benin tree hyrax (PageID: 67991924)\n",
        "\n",
        "**GUI Results:**\n",
        "1. Hyrax\n",
        "2. Hyrax Hill\n",
        "3. Hyrax Hill Prehistoric Site and Museum\n",
        "4. Rock hyrax\n",
        "5. Hyraxia Books\n",
        "\n",
        "**Analysis:** The API focuses more on biological/species variants, while GUI includes geographical and cultural references (Hyrax Hill, Hyraxia Books).\n",
        "\n",
        "## Pangolin Search\n",
        "**API Results:**\n",
        "1. Pangolin (PageID: 51124)\n",
        "2. Phylogenetic Assignment Named Global Outbreak Lineages\n",
        "3. Ground pangolin (PageID: 252144)\n",
        "4. Pangolin (disambiguation)\n",
        "5. Chinese pangolin (PageID: 10444089)\n",
        "\n",
        "**GUI Results:**\n",
        "1. Pangolin\n",
        "2. Pangolin trade\n",
        "3. Pangolin (disambiguation)\n",
        "4. Pangolinisis\n",
        "5. PANGOL (lineages)\n",
        "\n",
        "**Analysis:** API results are more species-focused, while GUI includes more contextual topics like illegal trade. Both include the disambiguation page.\n",
        "\n",
        "## Cat Search\n",
        "**API Results:**\n",
        "1. Cat (PageID: 6678)\n",
        "2. Cat (disambiguation)\n",
        "3. .cat\n",
        "4. CatCat\n",
        "5. Schrödinger's cat\n",
        "\n",
        "**GUI Results:**\n",
        "1. Cat\n",
        "2. Catholic Church\n",
        "3. Catherine the Great\n",
        "4. Catherine, Princess of Wales\n",
        "5. Catherine of Aragon\n",
        "\n",
        "**Analysis:** API results focus more on direct cat-related entries and technical uses of \"cat\", while GUI results branch into broader terms starting with \"cat\" including historical figures and institutions."
      ],
      "metadata": {
        "id": "Uu9YFxFAiKRf"
      }
    }
  ]
}