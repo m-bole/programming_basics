{
  "nbformat": 4,
  "nbformat_minor": 0,
  "metadata": {
    "colab": {
      "provenance": []
    },
    "kernelspec": {
      "name": "python3",
      "display_name": "Python 3"
    },
    "language_info": {
      "name": "python"
    }
  },
  "cells": [
    {
      "cell_type": "code",
      "execution_count": 2,
      "metadata": {
        "colab": {
          "base_uri": "https://localhost:8080/"
        },
        "id": "Hq-lcaljcbA-",
        "outputId": "b1a1d5ef-a2b5-49fd-e917-dc2480acd7e8"
      },
      "outputs": [
        {
          "output_type": "stream",
          "name": "stdout",
          "text": [
            "first_name: Jan\n",
            "last_name: Kowalski\n",
            "id: 123456\n",
            "faculty: Linguistics\n",
            "year: 2\n",
            "programming_grade: 5.0\n"
          ]
        }
      ],
      "source": [
        "# 1. Create initial dictionary with student data\n",
        "student = {\n",
        "    'first_name': 'Jan',\n",
        "    'last_name': 'Kowalski',\n",
        "    'id': 123456,\n",
        "    'faculty': 'Linguistics',\n",
        "    'year': 2\n",
        "}\n",
        "\n",
        "# 1.1 Add programming class grade using dictionary method\n",
        "student.update({'programming_grade': 5.0})\n",
        "\n",
        "# 1.2 Display all information using a loop\n",
        "for key, value in student.items():\n",
        "    print(f\"{key}: {value}\")"
      ]
    },
    {
      "cell_type": "code",
      "source": [
        "# Load required library\n",
        "import pandas as pd\n",
        "\n",
        "# Load the dataset\n",
        "df = pd.read_csv('sample_data/test.csv')\n",
        "\n",
        "# Display first 5 rows\n",
        "print(\"First 5 rows:\")\n",
        "print(df.head())\n",
        "\n",
        "# Display last 20 rows\n",
        "print(\"\\nLast 20 rows:\")\n",
        "print(df.tail(20))\n",
        "\n",
        "# Display dataset info\n",
        "print(\"\\nDataset information:\")\n",
        "print(df.info())"
      ],
      "metadata": {
        "colab": {
          "base_uri": "https://localhost:8080/"
        },
        "id": "grun3B0wdeGg",
        "outputId": "3d3a495b-03a3-4d82-9287-0636f568e76f"
      },
      "execution_count": 5,
      "outputs": [
        {
          "output_type": "stream",
          "name": "stdout",
          "text": [
            "First 5 rows:\n",
            "   PassengerId  Pclass                                          Name     Sex  \\\n",
            "0          892       3                              Kelly, Mr. James    male   \n",
            "1          893       3              Wilkes, Mrs. James (Ellen Needs)  female   \n",
            "2          894       2                     Myles, Mr. Thomas Francis    male   \n",
            "3          895       3                              Wirz, Mr. Albert    male   \n",
            "4          896       3  Hirvonen, Mrs. Alexander (Helga E Lindqvist)  female   \n",
            "\n",
            "    Age  SibSp  Parch   Ticket     Fare Cabin Embarked  \n",
            "0  34.5      0      0   330911   7.8292   NaN        Q  \n",
            "1  47.0      1      0   363272   7.0000   NaN        S  \n",
            "2  62.0      0      0   240276   9.6875   NaN        Q  \n",
            "3  27.0      0      0   315154   8.6625   NaN        S  \n",
            "4  22.0      1      1  3101298  12.2875   NaN        S  \n",
            "\n",
            "Last 20 rows:\n",
            "     PassengerId  Pclass                                             Name  \\\n",
            "398         1290       3                   Larsson-Rondberg, Mr. Edvard A   \n",
            "399         1291       3                         Conlon, Mr. Thomas Henry   \n",
            "400         1292       1                          Bonnell, Miss. Caroline   \n",
            "401         1293       2                                  Gale, Mr. Harry   \n",
            "402         1294       1                   Gibson, Miss. Dorothy Winifred   \n",
            "403         1295       1                           Carrau, Mr. Jose Pedro   \n",
            "404         1296       1                     Frauenthal, Mr. Isaac Gerald   \n",
            "405         1297       2     Nourney, Mr. Alfred (Baron von Drachstedt\")\"   \n",
            "406         1298       2                        Ware, Mr. William Jeffery   \n",
            "407         1299       1                       Widener, Mr. George Dunton   \n",
            "408         1300       3                  Riordan, Miss. Johanna Hannah\"\"   \n",
            "409         1301       3                        Peacock, Miss. Treasteall   \n",
            "410         1302       3                           Naughton, Miss. Hannah   \n",
            "411         1303       1  Minahan, Mrs. William Edward (Lillian E Thorpe)   \n",
            "412         1304       3                   Henriksson, Miss. Jenny Lovisa   \n",
            "413         1305       3                               Spector, Mr. Woolf   \n",
            "414         1306       1                     Oliva y Ocana, Dona. Fermina   \n",
            "415         1307       3                     Saether, Mr. Simon Sivertsen   \n",
            "416         1308       3                              Ware, Mr. Frederick   \n",
            "417         1309       3                         Peter, Master. Michael J   \n",
            "\n",
            "        Sex   Age  SibSp  Parch              Ticket      Fare Cabin Embarked  \n",
            "398    male  22.0      0      0              347065    7.7750   NaN        S  \n",
            "399    male  31.0      0      0               21332    7.7333   NaN        Q  \n",
            "400  female  30.0      0      0               36928  164.8667    C7        S  \n",
            "401    male  38.0      1      0               28664   21.0000   NaN        S  \n",
            "402  female  22.0      0      1              112378   59.4000   NaN        C  \n",
            "403    male  17.0      0      0              113059   47.1000   NaN        S  \n",
            "404    male  43.0      1      0               17765   27.7208   D40        C  \n",
            "405    male  20.0      0      0       SC/PARIS 2166   13.8625   D38        C  \n",
            "406    male  23.0      1      0               28666   10.5000   NaN        S  \n",
            "407    male  50.0      1      1              113503  211.5000   C80        C  \n",
            "408  female   NaN      0      0              334915    7.7208   NaN        Q  \n",
            "409  female   3.0      1      1  SOTON/O.Q. 3101315   13.7750   NaN        S  \n",
            "410  female   NaN      0      0              365237    7.7500   NaN        Q  \n",
            "411  female  37.0      1      0               19928   90.0000   C78        Q  \n",
            "412  female  28.0      0      0              347086    7.7750   NaN        S  \n",
            "413    male   NaN      0      0           A.5. 3236    8.0500   NaN        S  \n",
            "414  female  39.0      0      0            PC 17758  108.9000  C105        C  \n",
            "415    male  38.5      0      0  SOTON/O.Q. 3101262    7.2500   NaN        S  \n",
            "416    male   NaN      0      0              359309    8.0500   NaN        S  \n",
            "417    male   NaN      1      1                2668   22.3583   NaN        C  \n",
            "\n",
            "Dataset information:\n",
            "<class 'pandas.core.frame.DataFrame'>\n",
            "RangeIndex: 418 entries, 0 to 417\n",
            "Data columns (total 11 columns):\n",
            " #   Column       Non-Null Count  Dtype  \n",
            "---  ------       --------------  -----  \n",
            " 0   PassengerId  418 non-null    int64  \n",
            " 1   Pclass       418 non-null    int64  \n",
            " 2   Name         418 non-null    object \n",
            " 3   Sex          418 non-null    object \n",
            " 4   Age          332 non-null    float64\n",
            " 5   SibSp        418 non-null    int64  \n",
            " 6   Parch        418 non-null    int64  \n",
            " 7   Ticket       418 non-null    object \n",
            " 8   Fare         417 non-null    float64\n",
            " 9   Cabin        91 non-null     object \n",
            " 10  Embarked     418 non-null    object \n",
            "dtypes: float64(2), int64(4), object(5)\n",
            "memory usage: 36.0+ KB\n",
            "None\n"
          ]
        }
      ]
    }
  ]
}