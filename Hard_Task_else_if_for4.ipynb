{
  "nbformat": 4,
  "nbformat_minor": 0,
  "metadata": {
    "colab": {
      "provenance": []
    },
    "kernelspec": {
      "name": "python3",
      "display_name": "Python 3"
    },
    "language_info": {
      "name": "python"
    }
  },
  "cells": [
    {
      "cell_type": "code",
      "execution_count": null,
      "metadata": {
        "id": "K2xFfVA2chdg"
      },
      "outputs": [],
      "source": [
        "#HARD\n",
        "\n",
        "#1. Write a program that will give the sum of all n numbers, where n is the number given by the user. E.g. for n = 3 it will perform the operation 1 + 2 + 3 = 6\n",
        "\n",
        "#2. Write a program that accepts a String from the user. Then returns to him the number of all digits and letters in the String given by him.\n",
        "\n",
        "#3. Write a program that takes the following list [‘Ala’, ‘Patryk’, ‘Jacek’] and converts all letters on even indices to digits\n",
        "\n",
        "#4. Create a game called FizzBuzz. Game rules:\n",
        "  # - the game takes as input any array containing objects of class int\n",
        "  # - every number divisible by 3 is converted by the program into the word Fizz\n",
        "  # - every number divisible by 5 is transformed by the program into the word Buzz\n",
        "  # - the program converts every number divisible by 3 and 5 into the word FizzBuzz"
      ]
    },
    {
      "cell_type": "code",
      "source": [
        "# Task 1\n",
        "\n",
        "\n",
        "def calculate_sum(n):\n",
        "    \"\"\"\n",
        "    Calculate sum of numbers from 1 to n\n",
        "    Args:\n",
        "        n (int): Upper limit number\n",
        "    Returns:\n",
        "        int: Sum of all numbers from 1 to n\n",
        "    \"\"\"\n",
        "    return sum(range(1, n + 1))\n",
        "\n",
        "print(\"TASK 1: Sum of n numbers\")\n",
        "while True:\n",
        "    n = input(\"INPUT: Enter a positive number (n): \")\n",
        "    if n.isdigit() and int(n) > 0:\n",
        "        result = calculate_sum(int(n))\n",
        "        numbers = \" + \".join(str(i) for i in range(1, int(n) + 1))\n",
        "        print(f\"OUTPUT: {numbers} = {result}\")\n",
        "        break\n",
        "    print(\"ERROR: Please enter a valid positive number\")"
      ],
      "metadata": {
        "colab": {
          "base_uri": "https://localhost:8080/"
        },
        "id": "LxfRmczEciIz",
        "outputId": "71661364-3911-46d8-eef9-99dbd3f8c1e2"
      },
      "execution_count": 1,
      "outputs": [
        {
          "output_type": "stream",
          "name": "stdout",
          "text": [
            "TASK 1: Sum of n numbers\n",
            "INPUT: Enter a positive number (n): 7\n",
            "OUTPUT: 1 + 2 + 3 + 4 + 5 + 6 + 7 = 28\n"
          ]
        }
      ]
    },
    {
      "cell_type": "code",
      "source": [
        "#TASK 2\n",
        "\n",
        "\n",
        "def count_chars(text):\n",
        "    \"\"\"\n",
        "    Count letters and digits in a string\n",
        "    Args:\n",
        "        text (str): Input string\n",
        "    Returns:\n",
        "        tuple: (letter_count, digit_count)\n",
        "    \"\"\"\n",
        "    letters = sum(c.isalpha() for c in text)\n",
        "    digits = sum(c.isdigit() for c in text)\n",
        "    return letters, digits\n",
        "\n",
        "print(\"TASK 2: Count letters and digits\")\n",
        "text = input(\"INPUT: Enter a string: \")\n",
        "letters, digits = count_chars(text)\n",
        "print(\"OUTPUT:\")\n",
        "print(f\"- Number of letters: {letters}\")\n",
        "print(f\"- Number of digits: {digits}\")\n",
        "print(f\"- Total characters: {letters + digits}\")"
      ],
      "metadata": {
        "colab": {
          "base_uri": "https://localhost:8080/"
        },
        "id": "S17EYLj8cr5e",
        "outputId": "5485639e-78ba-4ca1-8fa4-4a092f6ef989"
      },
      "execution_count": 2,
      "outputs": [
        {
          "output_type": "stream",
          "name": "stdout",
          "text": [
            "TASK 2: Count letters and digits\n",
            "INPUT: Enter a string: ma\n",
            "OUTPUT:\n",
            "- Number of letters: 2\n",
            "- Number of digits: 0\n",
            "- Total characters: 2\n"
          ]
        }
      ]
    },
    {
      "cell_type": "code",
      "source": [
        "#Task 3\n",
        "\n",
        "def convert_to_digits(names):\n",
        "    \"\"\"\n",
        "    Convert letters at even indices to digits\n",
        "    Args:\n",
        "        names (list): List of names\n",
        "    Returns:\n",
        "        list: Modified names\n",
        "    \"\"\"\n",
        "    digit_mapping = {\n",
        "        'a': '4', 'e': '3', 'i': '1',\n",
        "        'o': '0', 's': '5', 't': '7'\n",
        "    }\n",
        "    result = []\n",
        "\n",
        "    for name in names:\n",
        "        new_name = \"\"\n",
        "        for i, char in enumerate(name):\n",
        "            if i % 2 == 0:  # even index\n",
        "                new_char = digit_mapping.get(char.lower(), '9')\n",
        "                new_name += new_char\n",
        "            else:\n",
        "                new_name += char\n",
        "        result.append(new_name)\n",
        "    return result\n",
        "\n",
        "# Original list\n",
        "names = ['Ala', 'Patryk', 'Jacek', 'Marysia', 'kotek']\n",
        "\n",
        "print(\"TASK 3: Convert letters at even indices to digits\")\n",
        "print(f\"INPUT: Original list = {names}\")\n",
        "modified_names = convert_to_digits(names)\n",
        "print(f\"OUTPUT: Modified list = {modified_names}\")\n",
        "\n",
        "print(\"\\nDetailed changes:\")\n",
        "for original, modified in zip(names, modified_names):\n",
        "    print(f\"- '{original}' -> '{modified}'\")"
      ],
      "metadata": {
        "colab": {
          "base_uri": "https://localhost:8080/"
        },
        "id": "SMbZd561cyIp",
        "outputId": "a2c47c0d-7f03-4767-c732-9da7b02adaad"
      },
      "execution_count": 4,
      "outputs": [
        {
          "output_type": "stream",
          "name": "stdout",
          "text": [
            "TASK 3: Convert letters at even indices to digits\n",
            "INPUT: Original list = ['Ala', 'Patryk', 'Jacek', 'Marysia', 'kotek']\n",
            "OUTPUT: Modified list = ['4l4', '9a7r9k', '9a9e9', '9a9y5i4', '9o7e9']\n",
            "\n",
            "Detailed changes:\n",
            "- 'Ala' -> '4l4'\n",
            "- 'Patryk' -> '9a7r9k'\n",
            "- 'Jacek' -> '9a9e9'\n",
            "- 'Marysia' -> '9a9y5i4'\n",
            "- 'kotek' -> '9o7e9'\n"
          ]
        }
      ]
    },
    {
      "cell_type": "code",
      "source": [
        "#TASK 4\n",
        "\n",
        "\n",
        "def fizzbuzz(numbers):\n",
        "    \"\"\"\n",
        "    Apply FizzBuzz rules to array of numbers\n",
        "    Args:\n",
        "        numbers (list): List of integers\n",
        "    Returns:\n",
        "        list: Modified list with Fizz, Buzz, or FizzBuzz\n",
        "    \"\"\"\n",
        "    result = []\n",
        "    for num in numbers:\n",
        "        if num % 3 == 0 and num % 5 == 0:\n",
        "            result.append(\"FizzBuzz\")\n",
        "        elif num % 3 == 0:\n",
        "            result.append(\"Fizz\")\n",
        "        elif num % 5 == 0:\n",
        "            result.append(\"Buzz\")\n",
        "        else:\n",
        "            result.append(str(num))\n",
        "    return result\n",
        "\n",
        "print(\"TASK 4: FizzBuzz Game\")\n",
        "print(\"Enter numbers separated by spaces (e.g., '1 2 3 4 5 15')\")\n",
        "\n",
        "while True:\n",
        "    try:\n",
        "        input_numbers = input(\"INPUT: Enter numbers: \")\n",
        "        numbers = [int(x) for x in input_numbers.split()]\n",
        "\n",
        "        if not numbers:\n",
        "            print(\"ERROR: Please enter at least one number\")\n",
        "            continue\n",
        "\n",
        "        result = fizzbuzz(numbers)\n",
        "\n",
        "        print(\"\\nOUTPUT:\")\n",
        "        print(\"Number -> FizzBuzz Result\")\n",
        "        print(\"-\" * 25)\n",
        "        for num, res in zip(numbers, result):\n",
        "            print(f\"{num:^6} -> {res:^12}\")\n",
        "        break\n",
        "\n",
        "    except ValueError:\n",
        "        print(\"ERROR: Please enter valid integers separated by spaces\")"
      ],
      "metadata": {
        "colab": {
          "base_uri": "https://localhost:8080/"
        },
        "id": "Zr5mPHQvdFGf",
        "outputId": "8a7c515e-2816-40bf-a2e3-034768cff794"
      },
      "execution_count": 5,
      "outputs": [
        {
          "output_type": "stream",
          "name": "stdout",
          "text": [
            "TASK 4: FizzBuzz Game\n",
            "Enter numbers separated by spaces (e.g., '1 2 3 4 5 15')\n",
            "INPUT: Enter numbers: 4 6 0 2\n",
            "\n",
            "OUTPUT:\n",
            "Number -> FizzBuzz Result\n",
            "-------------------------\n",
            "  4    ->      4      \n",
            "  6    ->     Fizz    \n",
            "  0    ->   FizzBuzz  \n",
            "  2    ->      2      \n"
          ]
        }
      ]
    }
  ]
}