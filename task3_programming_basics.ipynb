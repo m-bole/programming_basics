{
  "nbformat": 4,
  "nbformat_minor": 0,
  "metadata": {
    "colab": {
      "provenance": []
    },
    "kernelspec": {
      "name": "python3",
      "display_name": "Python 3"
    },
    "language_info": {
      "name": "python"
    }
  },
  "cells": [
    {
      "cell_type": "code",
      "execution_count": 11,
      "metadata": {
        "colab": {
          "base_uri": "https://localhost:8080/"
        },
        "id": "JOCdnbIo751a",
        "outputId": "a41d8978-0369-4f83-c08d-7a06cab88103"
      },
      "outputs": [
        {
          "output_type": "stream",
          "name": "stdout",
          "text": [
            "Task 1A - Printing all values:\n",
            "Patryk\n",
            "Alex\n",
            "Ian\n",
            "Kevin\n",
            "\n",
            "Task 1B - Second value:\n",
            "Alex\n",
            "\n",
            "Task 1C - List length:\n",
            "4\n",
            "\n",
            "Task 1D - Replacing with Tomato:\n",
            "Tomato\n",
            "Tomato\n",
            "Tomato\n",
            "Tomato\n",
            "\n",
            "Task 1D - Alternative way:\n",
            "Tomato\n",
            "Tomato\n",
            "Tomato\n",
            "Tomato\n"
          ]
        }
      ],
      "source": [
        "# Task 1\n",
        "\"\"\"\n",
        "1. Create the following list of Strings: [\"Patryk\", \"Alex\", \"Ian\", \"Kevin\"]\n",
        "Then write a program that:\n",
        "A. Prints out all values separately (1p),\n",
        "B. Prints out second value (Alex) (1p),\n",
        "C. Checks the length of a list (1p),\n",
        "D. Replaces all names with a word \"Tomato\" (1p).\n",
        "\"\"\"\n",
        "\n",
        "# Creating list of strings\n",
        "# List == object that can store multiple values\n",
        "names_list = [\"Patryk\", \"Alex\", \"Ian\", \"Kevin\"]\n",
        "\n",
        "# A. Print all values separately using For loop\n",
        "# For loop == For each element loop\n",
        "print(\"Task 1A - Printing all values:\")\n",
        "for name in names_list:  # for element in object\n",
        "    print(name)         # do something with element\n",
        "\n",
        "# B. Print second value using index\n",
        "print(\"\\nTask 1B - Second value:\")\n",
        "print(names_list[1])    # Lists start counting from 0\n",
        "\n",
        "# C. Check list length using len() function\n",
        "print(\"\\nTask 1C - List length:\")\n",
        "print(len(names_list))  # len() counts elements in list\n",
        "\n",
        "# D. Replace all names with \"Tomato\" using For loop\n",
        "print(\"\\nTask 1D - Replacing with Tomato:\")\n",
        "for i in range(len(names_list)):  # for each position in list\n",
        "    names_list[i] = \"Tomato\"     # replace with new value\n",
        "    print(names_list[i])         # print each value on new line\n",
        "\n",
        "# OR alternatively using the simpler for-each loop:\n",
        "print(\"\\nTask 1D - Alternative way:\")\n",
        "for name in names_list:     # for each element in list\n",
        "    print(name)            # print element on new line\n",
        "\n",
        "    #I did the alternative one just for training of different solutions"
      ]
    },
    {
      "cell_type": "code",
      "source": [
        "# Task 2\n",
        "\"\"\"\n",
        "2. Create the following list of Integers: [2, 4, 8, 12, 1, 67, 31]\n",
        "Then write a program which:\n",
        "A. converts all two-digit numbers into any object of String type (2p),\n",
        "B. Prints the lowest value (2p).\n",
        "\"\"\"\n",
        "\n",
        "# Creating our list of numbers\n",
        "numbers_list = [2, 4, 8, 12, 1, 67, 31]\n",
        "\n",
        "# Step 1 - B: Find the minimum value FIRST\n",
        "# We do this first while all items are still numbers\n",
        "# This way Python can compare them properly\n",
        "print(\"Task 2B - Lowest value:\")\n",
        "minimum_value = min(numbers_list)\n",
        "print(minimum_value)\n",
        "\n",
        "# Step 2 - A: Convert two-digit numbers to strings\n",
        "# Now we can safely convert numbers to strings\n",
        "# Because we already found our minimum value\n",
        "print(\"\\nTask 2A - Converting two-digit numbers:\")\n",
        "for i in range(len(numbers_list)):          # for each position in list\n",
        "    if numbers_list[i] >= 10:               # if number has two digits\n",
        "        numbers_list[i] = str(numbers_list[i])  # convert to string\n",
        "\n",
        "# Print final list to see the result\n",
        "print(numbers_list)"
      ],
      "metadata": {
        "colab": {
          "base_uri": "https://localhost:8080/"
        },
        "id": "RuaEmdXw8ZzS",
        "outputId": "2b7d3ad1-fd1b-4493-887c-eb24fab2f199"
      },
      "execution_count": 15,
      "outputs": [
        {
          "output_type": "stream",
          "name": "stdout",
          "text": [
            "Task 2B - Lowest value:\n",
            "1\n",
            "\n",
            "Task 2A - Converting two-digit numbers:\n",
            "[2, 4, 8, '12', 1, '67', '31']\n"
          ]
        }
      ]
    }
  ]
}