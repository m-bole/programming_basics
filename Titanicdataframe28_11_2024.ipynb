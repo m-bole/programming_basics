{
  "nbformat": 4,
  "nbformat_minor": 0,
  "metadata": {
    "colab": {
      "provenance": []
    },
    "kernelspec": {
      "name": "python3",
      "display_name": "Python 3"
    },
    "language_info": {
      "name": "python"
    }
  },
  "cells": [
    {
      "cell_type": "code",
      "source": [
        "import pandas as pd\n",
        "import numpy as np"
      ],
      "metadata": {
        "id": "EFtXe4AuIdfj"
      },
      "execution_count": 3,
      "outputs": []
    },
    {
      "cell_type": "code",
      "source": [
        "# Load the dataset\n",
        "MAIN_DATA = pd.read_csv(\"/content/test.csv\")"
      ],
      "metadata": {
        "id": "EqqYgbpEIelB"
      },
      "execution_count": 4,
      "outputs": []
    },
    {
      "cell_type": "code",
      "execution_count": 5,
      "metadata": {
        "colab": {
          "base_uri": "https://localhost:8080/"
        },
        "id": "fVPI13L1IQtk",
        "outputId": "92190262-3291-4ec0-f80a-a324ec611707"
      },
      "outputs": [
        {
          "output_type": "stream",
          "name": "stdout",
          "text": [
            "Task a: Selected DataFrame preview\n",
            "                                           Name   Age     Sex\n",
            "0                              Kelly, Mr. James  34.5    male\n",
            "1              Wilkes, Mrs. James (Ellen Needs)  47.0  female\n",
            "2                     Myles, Mr. Thomas Francis  62.0    male\n",
            "3                              Wirz, Mr. Albert  27.0    male\n",
            "4  Hirvonen, Mrs. Alexander (Helga E Lindqvist)  22.0  female\n",
            "\n",
            "==================================================\n",
            "\n"
          ]
        }
      ],
      "source": [
        "# a. Create new DataFrame with selected columns\n",
        "selected_df = MAIN_DATA[['Name', 'Age', 'Sex']].copy()\n",
        "\n",
        "print(\"Task a: Selected DataFrame preview\")\n",
        "print(selected_df.head())\n",
        "print(\"\\n\" + \"=\"*50 + \"\\n\")\n"
      ]
    },
    {
      "cell_type": "code",
      "source": [
        "# b.i Calculate median age\n",
        "median_age = selected_df['Age'].median()\n",
        "print(f\"Task b.i: Median age of passengers: {median_age:.2f} years\")\n",
        "print(\"\\n\" + \"=\"*50 + \"\\n\")\n"
      ],
      "metadata": {
        "colab": {
          "base_uri": "https://localhost:8080/"
        },
        "id": "KhdtNgNvIwuD",
        "outputId": "a0702c0c-984e-4cdf-881a-f25dce6fb342"
      },
      "execution_count": 6,
      "outputs": [
        {
          "output_type": "stream",
          "name": "stdout",
          "text": [
            "Task b.i: Median age of passengers: 27.00 years\n",
            "\n",
            "==================================================\n",
            "\n"
          ]
        }
      ]
    },
    {
      "cell_type": "code",
      "source": [
        "# b.ii Replace Sex values with numeric (0 for male, 1 for female)\n",
        "selected_df['Sex'] = selected_df['Sex'].map({'male': 0, 'female': 1})\n",
        "print(\"Task b.ii: Sex column converted to numeric\")\n",
        "print(selected_df['Sex'].value_counts())\n",
        "print(\"\\n\" + \"=\"*50 + \"\\n\")\n"
      ],
      "metadata": {
        "colab": {
          "base_uri": "https://localhost:8080/"
        },
        "id": "GLmdgjTDIxhH",
        "outputId": "dc54e36f-6385-4abb-f300-3f8ed5818938"
      },
      "execution_count": 7,
      "outputs": [
        {
          "output_type": "stream",
          "name": "stdout",
          "text": [
            "Task b.ii: Sex column converted to numeric\n",
            "Sex\n",
            "0    266\n",
            "1    152\n",
            "Name: count, dtype: int64\n",
            "\n",
            "==================================================\n",
            "\n"
          ]
        }
      ]
    },
    {
      "cell_type": "code",
      "source": [
        "# b.iii Count men and women\n",
        "men_count = len(selected_df[selected_df['Sex'] == 0])\n",
        "women_count = len(selected_df[selected_df['Sex'] == 1])\n",
        "print(\"Task b.iii: Gender counts\")\n",
        "print(f\"Number of men: {men_count}\")\n",
        "print(f\"Number of women: {women_count}\")\n",
        "print(\"\\n\" + \"=\"*50 + \"\\n\")\n"
      ],
      "metadata": {
        "colab": {
          "base_uri": "https://localhost:8080/"
        },
        "id": "Phvzo533IyMv",
        "outputId": "a9acc4f0-48e9-4e38-c432-a2a6e3fba447"
      },
      "execution_count": 8,
      "outputs": [
        {
          "output_type": "stream",
          "name": "stdout",
          "text": [
            "Task b.iii: Gender counts\n",
            "Number of men: 266\n",
            "Number of women: 152\n",
            "\n",
            "==================================================\n",
            "\n"
          ]
        }
      ]
    },
    {
      "cell_type": "code",
      "source": [
        "# b.iv Calculate year of birth\n",
        "selected_df['Year of birth'] = 1912 - selected_df['Age']\n",
        "print(\"Task b.iv: Added Year of birth column\")\n",
        "print(selected_df.head())\n"
      ],
      "metadata": {
        "colab": {
          "base_uri": "https://localhost:8080/"
        },
        "id": "cqHXUPGXIy6T",
        "outputId": "1eca8824-6ee8-4906-a904-a8df89de4595"
      },
      "execution_count": 9,
      "outputs": [
        {
          "output_type": "stream",
          "name": "stdout",
          "text": [
            "Task b.iv: Added Year of birth column\n",
            "                                           Name   Age  Sex  Year of birth\n",
            "0                              Kelly, Mr. James  34.5    0         1877.5\n",
            "1              Wilkes, Mrs. James (Ellen Needs)  47.0    1         1865.0\n",
            "2                     Myles, Mr. Thomas Francis  62.0    0         1850.0\n",
            "3                              Wirz, Mr. Albert  27.0    0         1885.0\n",
            "4  Hirvonen, Mrs. Alexander (Helga E Lindqvist)  22.0    1         1890.0\n"
          ]
        }
      ]
    },
    {
      "cell_type": "code",
      "source": [
        "# Display final summary\n",
        "print(\"\\nFinal DataFrame Summary:\")\n",
        "print(selected_df.describe())"
      ],
      "metadata": {
        "colab": {
          "base_uri": "https://localhost:8080/"
        },
        "id": "FzwfyT4RIzk9",
        "outputId": "4b0a29a3-c8d3-45d2-a7e4-d737a1d1d4c0"
      },
      "execution_count": 10,
      "outputs": [
        {
          "output_type": "stream",
          "name": "stdout",
          "text": [
            "\n",
            "Final DataFrame Summary:\n",
            "              Age         Sex  Year of birth\n",
            "count  332.000000  418.000000     332.000000\n",
            "mean    30.272590    0.363636    1881.727410\n",
            "std     14.181209    0.481622      14.181209\n",
            "min      0.170000    0.000000    1836.000000\n",
            "25%     21.000000    0.000000    1873.000000\n",
            "50%     27.000000    0.000000    1885.000000\n",
            "75%     39.000000    1.000000    1891.000000\n",
            "max     76.000000    1.000000    1911.830000\n"
          ]
        }
      ]
    }
  ]
}